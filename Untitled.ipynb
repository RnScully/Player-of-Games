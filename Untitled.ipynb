{
 "cells": [
  {
   "cell_type": "code",
   "execution_count": 2,
   "metadata": {
    "ExecuteTime": {
     "end_time": "2020-03-02T18:02:59.250714Z",
     "start_time": "2020-03-02T18:02:58.977974Z"
    }
   },
   "outputs": [],
   "source": [
    "import matplotlib.pyplot as plt"
   ]
  },
  {
   "cell_type": "code",
   "execution_count": 5,
   "metadata": {
    "ExecuteTime": {
     "end_time": "2020-03-02T18:14:21.378949Z",
     "start_time": "2020-03-02T18:14:21.237603Z"
    }
   },
   "outputs": [
    {
     "data": {
      "image/png": "[encoded data removed]",
      "text/plain": [
       "<Figure size 432x288 with 1 Axes>"
      ]
     },
     "metadata": {
      "needs_background": "light"
     },
     "output_type": "display_data"
    }
   ],
   "source": [
    "t3 = ['32', '64', '128', '256', '512']\n",
    "v3 = [0,14, 36, 44, 6]\n",
    "\n",
    "fig, ax = plt.subplots(1, figsize = (6,4))\n",
    "ax.bar(t3, v3, align='center',  color = 'k')\n",
    "#ax[0].xticks(y_pos, objects)\n",
    "ax.set_ylabel('Frequency')\n",
    "ax.set_xlabel('Tile Value')\n",
    "ax.set_title('Best Tiles of Q Learner')\n",
    "plt.savefig('Best tiles q')\n",
    "\n",
    "plt.show()"
   ]
  },
  {
   "cell_type": "code",
   "execution_count": 25,
   "metadata": {
    "ExecuteTime": {
     "end_time": "2020-03-03T19:29:50.313013Z",
     "start_time": "2020-03-03T19:29:50.145442Z"
    }
   },
   "outputs": [
    {
     "data": {
      "text/plain": [
       "Text(0.5, 1.0, 'Best Tiles Made by Random Play')"
      ]
     },
     "execution_count": 25,
     "metadata": {},
     "output_type": "execute_result"
    },
    {
     "data": {
      "image/png": "[encoded data removed]",
      "text/plain": [
       "<Figure size 432x288 with 1 Axes>"
      ]
     },
     "metadata": {
      "needs_background": "light"
     },
     "output_type": "display_data"
    }
   ],
   "source": [
    "bar_names = ['32', '64', '128', '256', '512']\n",
    "tile_counts = [6, 48, 39, 7, 0 ]\n",
    "\n",
    "\n",
    "fig, ax = plt.subplots(1, figsize = (6,4))\n",
    "\n",
    "ax.bar(bar_names,tile_counts, align='center', color = 'k')\n",
    "#ax[0].xticks(y_pos, objects)\n",
    "ax.set_ylabel('Frequency')\n",
    "ax.set_xlabel('Tile Value')\n",
    "ax.set_title('Best Tiles Made by Random Play')\n",
    "\n",
    "#plt.savefig('randomplay.png')"
   ]
  },
  {
   "cell_type": "code",
   "execution_count": null,
   "metadata": {},
   "outputs": [],
   "source": [
    "for x in [board.ravel()]:\n",
    "            blank = np.array([0, 0, 0, 0, 0, 0, 0, 0, 0, 0, 0, 0, 0, 0, 0, 0])\n",
    "            if x != 0:\n",
    "                blank[int(np.log2(x))] = 1\n",
    "            tokenized = np.append(tokenized, blank)\n",
    "        return tokenized"
   ]
  },
  {
   "cell_type": "code",
   "execution_count": 26,
   "metadata": {
    "ExecuteTime": {
     "end_time": "2020-03-03T19:30:04.426020Z",
     "start_time": "2020-03-03T19:30:04.260508Z"
    }
   },
   "outputs": [
    {
     "data": {
      "image/png": "[encoded data removed]",
      "text/plain": [
       "<Figure size 432x288 with 1 Axes>"
      ]
     },
     "metadata": {
      "needs_background": "light"
     },
     "output_type": "display_data"
    }
   ],
   "source": [
    "bar_names = ['32', '64', '128', '256', '512']\n",
    "tile_counts = [4, 26, 39, 27, 3 ]\n",
    "\n",
    "\n",
    "fig, ax = plt.subplots(1, figsize = (6,4))\n",
    "\n",
    "ax.bar(bar_names,tile_counts, align='center', color = 'k')\n",
    "#ax[0].xticks(y_pos, objects)\n",
    "ax.set_ylabel('Frequency')\n",
    "ax.set_xlabel('Tile Value')\n",
    "ax.set_title('Best Evolution')\n",
    "\n",
    "#plt.savefig('Best Evolution.png')"
   ]
  },
  {
   "cell_type": "code",
   "execution_count": null,
   "metadata": {},
   "outputs": [],
   "source": []
  }
 ],
 "metadata": {
  "kernelspec": {
   "display_name": "Python 3.7.4 64-bit ('anaconda3': virtualenv)",
   "language": "python",
   "name": "python37464bitanaconda3virtualenv4689841a946143dd80c9fcc86c644564"
  },
  "language_info": {
   "codemirror_mode": {
    "name": "ipython",
    "version": 3
   },
   "file_extension": ".py",
   "mimetype": "text/x-python",
   "name": "python",
   "nbconvert_exporter": "python",
   "pygments_lexer": "ipython3",
   "version": "3.7.4"
  }
 },
 "nbformat": 4,
 "nbformat_minor": 2
}
